{
 "cells": [
  {
   "cell_type": "code",
   "execution_count": 14,
   "id": "e4e956e4",
   "metadata": {},
   "outputs": [],
   "source": [
    "import numpy as np\n",
    "\n",
    "# Inputs (2 features)\n",
    "X = np.array([\n",
    "    [2.5, 2.4],\n",
    "    [0.5, 0.7],\n",
    "    [2.2, 2.9],\n",
    "    [1.9, 2.2],\n",
    "    [3.1, 3.0],\n",
    "    [2.3, 2.7],\n",
    "    [2.0, 1.6],\n",
    "    [1.0, 1.1],\n",
    "    [1.5, 1.6],\n",
    "    [1.1, 0.9],\n",
    "    [3.0, 3.2],\n",
    "    [2.7, 2.8],\n",
    "    [3.2, 3.3],\n",
    "    [2.9, 2.7],\n",
    "    [2.5, 2.5]\n",
    "])\n",
    "\n",
    "# Output (binary)\n",
    "Y = np.array([0,0,0,0,1,1,0,0,0,0,1,1,1,1,1])\n"
   ]
  },
  {
   "cell_type": "code",
   "execution_count": 15,
   "id": "bcd7633c",
   "metadata": {},
   "outputs": [],
   "source": [
    "import matplotlib.pyplot as plt \n",
    "\n",
    "class LogisticRegression:\n",
    "    def __init__(self):\n",
    "        self.learning_rate = 0.01\n",
    "        self.epoch = 1000\n",
    "        self.coef = None\n",
    "        self.intercept = None\n",
    "        self.m = None\n",
    "        self.c = None\n",
    "\n",
    "    def fit(self,X,Y):\n",
    "        X = self.get_biasdata(X)\n",
    "\n",
    "        weight = np.ones((X.shape[1]))\n",
    "\n",
    "        for i in range(self.epoch):\n",
    "            rand_index = np.random.randint(0,X.shape[0])\n",
    "            y_pred = np.dot(X[rand_index],weight)\n",
    "            y_pred = self.sigmoid_function(y_pred)\n",
    "\n",
    "            new_weight = weight + (self.learning_rate*(Y[rand_index ] - y_pred)*X[rand_index])\n",
    "            weight = new_weight\n",
    "            \n",
    "        #Best Weights [w0,w1,w2] that is w0X0+w1X1+w2X2\n",
    "        self.intercept = weight[0]\n",
    "        self.coef = weight[1:]\n",
    "\n",
    "        self.m,self.c = self.find_m_c(self.coef,self.intercept)\n",
    "\n",
    "            \n",
    "\n",
    "    def get_biasdata(self,X):\n",
    "        bias = np.ones((X.shape[0],1))\n",
    "        X = np.hstack((bias,X))\n",
    "        return X\n",
    "\n",
    "    def sigmoid_function(self,y_pred):\n",
    "        return 1/(1+np.exp(-y_pred))\n",
    "\n",
    "    def find_m_c(self,coef , intercept):\n",
    "        return -coef[0]/coef[1] , -intercept/coef[1]\n",
    "    "
   ]
  },
  {
   "cell_type": "code",
   "execution_count": 16,
   "id": "df1fcbad",
   "metadata": {},
   "outputs": [
    {
     "name": "stdout",
     "output_type": "stream",
     "text": [
      "[0.26067225 0.15383198] -0.6200392127643505\n"
     ]
    }
   ],
   "source": [
    "obj = LogisticRegression()\n",
    "obj.fit(X,Y)\n",
    "print(obj.coef,obj.intercept)\n"
   ]
  }
 ],
 "metadata": {
  "kernelspec": {
   "display_name": "Python 3",
   "language": "python",
   "name": "python3"
  },
  "language_info": {
   "codemirror_mode": {
    "name": "ipython",
    "version": 3
   },
   "file_extension": ".py",
   "mimetype": "text/x-python",
   "name": "python",
   "nbconvert_exporter": "python",
   "pygments_lexer": "ipython3",
   "version": "3.13.4"
  }
 },
 "nbformat": 4,
 "nbformat_minor": 5
}

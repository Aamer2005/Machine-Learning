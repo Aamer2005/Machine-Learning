{
 "cells": [
  {
   "cell_type": "code",
   "execution_count": 86,
   "id": "1f5b015a",
   "metadata": {},
   "outputs": [],
   "source": [
    "import numpy as np\n",
    "\n",
    "# Inputs (2 features)\n",
    "X = np.array([\n",
    "    [2.5, 2.4],\n",
    "    [0.5, 0.7],\n",
    "    [2.2, 2.9],\n",
    "    [1.9, 2.2],\n",
    "    [3.1, 3.0],\n",
    "    [2.3, 2.7],\n",
    "    [2.0, 1.6],\n",
    "    [1.0, 1.1],\n",
    "    [1.5, 1.6],\n",
    "    [1.1, 0.9],\n",
    "    [3.0, 3.2],\n",
    "    [2.7, 2.8],\n",
    "    [3.2, 3.3],\n",
    "    [2.9, 2.7],\n",
    "    [2.5, 2.5]\n",
    "])\n",
    "\n",
    "# Output (binary)\n",
    "Y = np.array([0,0,0,0,1,1,0,0,0,0,1,1,1,1,1])\n"
   ]
  },
  {
   "cell_type": "code",
   "execution_count": 46,
   "id": "993d198a",
   "metadata": {},
   "outputs": [
    {
     "data": {
      "text/plain": [
       "3"
      ]
     },
     "execution_count": 46,
     "metadata": {},
     "output_type": "execute_result"
    }
   ],
   "source": [
    "np.random.randint(0,X.shape[0])"
   ]
  },
  {
   "cell_type": "code",
   "execution_count": 81,
   "id": "470c3637",
   "metadata": {},
   "outputs": [
    {
     "ename": "NameError",
     "evalue": "name 'rand_index' is not defined",
     "output_type": "error",
     "traceback": [
      "\u001b[31m---------------------------------------------------------------------------\u001b[39m",
      "\u001b[31mNameError\u001b[39m                                 Traceback (most recent call last)",
      "\u001b[36mCell\u001b[39m\u001b[36m \u001b[39m\u001b[32mIn[81]\u001b[39m\u001b[32m, line 2\u001b[39m\n\u001b[32m      1\u001b[39m np.ones((X.shape[\u001b[32m1\u001b[39m],\u001b[32m1\u001b[39m))\n\u001b[32m----> \u001b[39m\u001b[32m2\u001b[39m y_pred = np.dot(X[\u001b[43mrand_index\u001b[49m],weight)\n",
      "\u001b[31mNameError\u001b[39m: name 'rand_index' is not defined"
     ]
    }
   ],
   "source": [
    "np.ones((X.shape[1],1))\n",
    "y_pred = np.dot(X[rand_index],weight)\n"
   ]
  },
  {
   "cell_type": "code",
   "execution_count": 102,
   "id": "2aec7f43",
   "metadata": {},
   "outputs": [],
   "source": [
    "class LogisticRegression:\n",
    "    def __init__(self):\n",
    "        self.learning_rate = 0.01\n",
    "        self.epoch = 1000\n",
    "        self.coef = None\n",
    "        self.intercept = None\n",
    "\n",
    "    def fit(self,X,Y):\n",
    "        X = self.get_biasdata(X)\n",
    "\n",
    "        weight = np.ones((X.shape[1]))\n",
    "\n",
    "        for i in range(self.epoch):\n",
    "            rand_index = np.random.randint(0,X.shape[0])\n",
    "            y_pred = np.dot(X[rand_index],weight)\n",
    "            y_pred = int(self.check_step(y_pred))\n",
    "\n",
    "            new_weight = weight + (self.learning_rate*(Y[rand_index ] - y_pred)*X[rand_index])\n",
    "            weight = new_weight\n",
    "            \n",
    "        #Best Weights [w0,w1,w2] that is w0X0+w1X1+w2X2\n",
    "        self.intercept = weight[0]\n",
    "        self.coef = weight[1:]\n",
    "\n",
    "            \n",
    "\n",
    "    def get_biasdata(self,X):\n",
    "        bias = np.ones((X.shape[0],1))\n",
    "        X = np.hstack((bias,X))\n",
    "        return X\n",
    "\n",
    "    def check_step(self,y_pred): return  1 if y_pred>0 else 0\n",
    "        "
   ]
  },
  {
   "cell_type": "code",
   "execution_count": 103,
   "id": "acf421a8",
   "metadata": {},
   "outputs": [
    {
     "name": "stdout",
     "output_type": "stream",
     "text": [
      "[0.08  0.016] -0.2100000000000008\n"
     ]
    }
   ],
   "source": [
    "obj = LogisticRegression()\n",
    "obj.fit(X,Y)\n",
    "print(obj.coef,obj.intercept)\n"
   ]
  }
 ],
 "metadata": {
  "kernelspec": {
   "display_name": "Python 3",
   "language": "python",
   "name": "python3"
  },
  "language_info": {
   "codemirror_mode": {
    "name": "ipython",
    "version": 3
   },
   "file_extension": ".py",
   "mimetype": "text/x-python",
   "name": "python",
   "nbconvert_exporter": "python",
   "pygments_lexer": "ipython3",
   "version": "3.13.4"
  }
 },
 "nbformat": 4,
 "nbformat_minor": 5
}

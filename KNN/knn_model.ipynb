{
 "cells": [
  {
   "cell_type": "code",
   "execution_count": 15,
   "id": "5632c57c",
   "metadata": {},
   "outputs": [],
   "source": [
    "# import pandas as pd\n",
    "\n",
    "# df = pd.read_csv('fruit_data.csv')\n",
    "# data = df.values.tolist()\n",
    "\n",
    "# print(data)\n"
   ]
  },
  {
   "cell_type": "code",
   "execution_count": 16,
   "id": "3845d397",
   "metadata": {},
   "outputs": [],
   "source": [
    "# Desired Output\n",
    "data = [\n",
    "    [150, 0, 'Orange'],\n",
    "    [170, 0, 'Orange'],\n",
    "    [140, 1, 'Apple'],\n",
    "    [130, 1, 'Apple'],\n",
    "    [160, 0, 'Orange'],\n",
    "    [145, 1, 'Apple']\n",
    "]\n"
   ]
  },
  {
   "cell_type": "code",
   "execution_count": null,
   "id": "10ca440b",
   "metadata": {},
   "outputs": [],
   "source": [
    "import math\n",
    "class MyKNN:\n",
    "    def __init__(self,k):\n",
    "        self.k = k\n",
    "        self.X = None\n",
    "        self.Y = None\n",
    "        self.new_point = None\n",
    "\n",
    "    def fit(self,X,Y):\n",
    "        self.X = X\n",
    "        self.Y = Y\n",
    "\n",
    "    def predict(self,new_point):\n",
    "        #New Point TO Predict Class\n",
    "        self.new_point = new_point\n",
    "\n",
    "        #calculate distance for each point from new point\n",
    "        distance = self.calculate_distance()\n",
    "\n",
    "        #maintaing indeces to ensure or track the complete row data\n",
    "        my_dict = {i:distance[i] for i in range(len(distance))}\n",
    "\n",
    "        #sort the distances to find minimum distances\n",
    "        sorted_distance = sorted(distance)\n",
    "\n",
    "        #select only minimum k distances\n",
    "        k_distances = [sorted_distance[i] for i in range(len(sorted_distance)) if i<self.k]\n",
    "\n",
    "        #find class corresponding k distances\n",
    "        predict_class = self.find_majority_class(k_distances,my_dict)\n",
    "\n",
    "        return predict_class\n",
    "\n",
    "\n",
    "    def calculate_distance(self):\n",
    "        distance = []\n",
    "\n",
    "        for i in range(len(self.X)):\n",
    "            first = (self.new_point[0]-self.X[i][0])**2\n",
    "            second = (self.new_point[1]-self.X[i][1])**2\n",
    "\n",
    "            distance.append(math.sqrt(first+second))\n",
    "\n",
    "        return distance\n",
    "    \n",
    "    def find_majority_class(self,k_distances , my_dict):\n",
    "        class_list = []\n",
    "        for distance in k_distances:\n",
    "            index = [k for k in my_dict if my_dict[k]==distance]\n",
    "            index = index[0] # To make sure only single index\n",
    "            class_list.append(self.Y[index])\n",
    "        \n",
    "        orange_count = 0 \n",
    "        apple_count = 0\n",
    "        for fruit in class_list :\n",
    "            if fruit == 'Orange':\n",
    "                orange_count+=1\n",
    "            else:\n",
    "                apple_count+=1\n",
    "\n",
    "            \n",
    "        return 'Orange' if orange_count>=apple_count else 'Apple'"
   ]
  },
  {
   "cell_type": "code",
   "execution_count": 26,
   "id": "803c61ee",
   "metadata": {},
   "outputs": [
    {
     "data": {
      "text/plain": [
       "'Orange'"
      ]
     },
     "execution_count": 26,
     "metadata": {},
     "output_type": "execute_result"
    }
   ],
   "source": [
    "X = [row[:2] for row in data]\n",
    "Y = [row[2] for row in data]\n",
    "model = MyKNN(3)\n",
    "model.fit(X,Y)\n",
    "model.predict([150,0])"
   ]
  }
 ],
 "metadata": {
  "kernelspec": {
   "display_name": "Python 3",
   "language": "python",
   "name": "python3"
  },
  "language_info": {
   "codemirror_mode": {
    "name": "ipython",
    "version": 3
   },
   "file_extension": ".py",
   "mimetype": "text/x-python",
   "name": "python",
   "nbconvert_exporter": "python",
   "pygments_lexer": "ipython3",
   "version": "3.13.4"
  }
 },
 "nbformat": 4,
 "nbformat_minor": 5
}

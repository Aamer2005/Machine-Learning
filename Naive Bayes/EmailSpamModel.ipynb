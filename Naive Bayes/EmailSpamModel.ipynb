{
 "cells": [
  {
   "cell_type": "markdown",
   "id": "c85bc0ae",
   "metadata": {},
   "source": [
    "* Q. Email service providers aim to automatically classify incoming emails as Spam or Not Spam based on the words or patterns they contain.\n",
    "\n",
    "A small company wants to develop a simple rule-based spam detection model using Naive Bayes classification.\n",
    "\n",
    "Using this dataset, the task is to:\n",
    "\n",
    "`Task : Train a Naive Bayes classifier using historical data.`\n",
    "\n",
    "`Calculate probabilities for each feature given the class.`\n",
    "\n",
    "`Predict whether a new incoming email is Spam or Not Spam based on its words.`"
   ]
  },
  {
   "cell_type": "markdown",
   "id": "88bd29f8",
   "metadata": {},
   "source": [
    "* Storing Data / Extracting The Data"
   ]
  },
  {
   "cell_type": "code",
   "execution_count": null,
   "id": "6ddd25c6",
   "metadata": {},
   "outputs": [],
   "source": [
    "data = [\n",
    "    ['Contains_Free',' Contains_Offer', 'Contains_Win', 'Label'],\n",
    "    [\"Yes\", \"Yes\", \"No\", \"Spam\"],\n",
    "    [\"No\", \"Yes\", \"Yes\", \"Spam\"],\n",
    "    [\"Yes\", \"No\", \"No\", \"Not Spam\"],\n",
    "    [\"No\", \"Yes\", \"No\", \"Not Spam\"],\n",
    "    [\"Yes\", \"Yes\", \"Yes\", \"Spam\"]\n",
    "]\n",
    "\n",
    "#Import from csv\n",
    "# import pandas as pd \n",
    "# df = pd.read_csv('email_spam_data.csv')\n",
    "\n",
    "\n"
   ]
  },
  {
   "cell_type": "markdown",
   "id": "8af12d5e",
   "metadata": {},
   "source": [
    "1) Extract Features Name"
   ]
  },
  {
   "cell_type": "code",
   "execution_count": 14,
   "id": "d826959a",
   "metadata": {},
   "outputs": [
    {
     "name": "stdout",
     "output_type": "stream",
     "text": [
      "['Contains_Free', ' Contains_Offer', 'Contains_Win', 'Label']\n",
      "Label\n"
     ]
    }
   ],
   "source": [
    "features_name = []\n",
    "\n",
    "for i in range(0,len(data[0])):\n",
    "  features_name.append(data[0][i])\n",
    "\n",
    "print(features_name)\n",
    "\n",
    "class_name = data[0][len(data[0])-1]\n",
    "\n",
    "print(class_name)"
   ]
  },
  {
   "cell_type": "markdown",
   "id": "abb75bdd",
   "metadata": {},
   "source": [
    "2) Create Column Dictionary"
   ]
  },
  {
   "cell_type": "code",
   "execution_count": 2,
   "id": "3354e2c8",
   "metadata": {},
   "outputs": [
    {
     "name": "stdout",
     "output_type": "stream",
     "text": [
      "{'Contains_Free': ['Yes', 'No', 'Yes', 'No', 'Yes'], ' Contains_Offer': ['Yes', 'Yes', 'No', 'Yes', 'Yes'], 'Contains_Win': ['No', 'Yes', 'No', 'No', 'Yes'], 'Label': ['Spam', 'Spam', 'Not Spam', 'Not Spam', 'Spam']}\n"
     ]
    }
   ],
   "source": [
    "columns = {}\n",
    "L = []\n",
    "\n",
    "for j in range(0,len(data[0])):\n",
    "  for i in range(1,len(data)):\n",
    "    L.append(data[i][j])\n",
    "\n",
    "  columns[features_name[j]] = L\n",
    "  L = []\n",
    "\n",
    "print(columns)"
   ]
  },
  {
   "cell_type": "markdown",
   "id": "c113a35d",
   "metadata": {},
   "source": [
    "3) find unique attribute"
   ]
  },
  {
   "cell_type": "code",
   "execution_count": 3,
   "id": "5e71996c",
   "metadata": {},
   "outputs": [
    {
     "name": "stdout",
     "output_type": "stream",
     "text": [
      "{'Contains_Free': ['No', 'Yes'], ' Contains_Offer': ['No', 'Yes'], 'Contains_Win': ['No', 'Yes'], 'Label': ['Not Spam', 'Spam']}\n"
     ]
    }
   ],
   "source": [
    "unique_attribute = {}\n",
    "\n",
    "for i in range(0,len(data[0])):\n",
    "  unique_attribute[features_name[i]] = list(set(columns[features_name[i]]))\n",
    "\n",
    "print(unique_attribute)"
   ]
  },
  {
   "cell_type": "markdown",
   "id": "540d42f2",
   "metadata": {},
   "source": [
    "4) Calculate Class Probabilities"
   ]
  },
  {
   "cell_type": "code",
   "execution_count": 4,
   "id": "69a9dc2d",
   "metadata": {},
   "outputs": [
    {
     "name": "stdout",
     "output_type": "stream",
     "text": [
      "0.6\n",
      "0.4\n"
     ]
    }
   ],
   "source": [
    "probability_of_yes = columns[class_name].count('Spam')/len(columns[class_name])\n",
    "probability_of_no = columns[class_name].count('Not Spam')/len(columns[class_name])\n",
    "\n",
    "print(probability_of_yes)\n",
    "print(probability_of_no)"
   ]
  },
  {
   "cell_type": "markdown",
   "id": "c2c5a097",
   "metadata": {},
   "source": [
    "5) Calculate Conditional Probability"
   ]
  },
  {
   "cell_type": "code",
   "execution_count": 5,
   "id": "5fe4b14d",
   "metadata": {},
   "outputs": [],
   "source": [
    "def probability(column_name,attribute,class_value):\n",
    "  mycolumn = columns[column_name]\n",
    "  classcolumn = columns[class_name]\n",
    "\n",
    "  count = 0\n",
    "\n",
    "  for i in range(0,len(mycolumn)):\n",
    "    if mycolumn[i] == attribute and classcolumn[i]==class_value:\n",
    "      count=count+1\n",
    "\n",
    "  return count/classcolumn.count(class_value)"
   ]
  },
  {
   "cell_type": "markdown",
   "id": "9fbd3cef",
   "metadata": {},
   "source": [
    "6) Maintaining Conditional Probabilities"
   ]
  },
  {
   "cell_type": "code",
   "execution_count": 6,
   "id": "80fa583a",
   "metadata": {},
   "outputs": [
    {
     "name": "stdout",
     "output_type": "stream",
     "text": [
      "Conditional probabilities given Spam: {'Contains_Free_No': 0.3333333333333333, 'Contains_Free_Yes': 0.6666666666666666, ' Contains_Offer_No': 0.0, ' Contains_Offer_Yes': 1.0, 'Contains_Win_No': 0.3333333333333333, 'Contains_Win_Yes': 0.6666666666666666}\n",
      "Conditional probabilities given Not Spam: {'Contains_Free_No': 0.5, 'Contains_Free_Yes': 0.5, ' Contains_Offer_No': 0.5, ' Contains_Offer_Yes': 0.5, 'Contains_Win_No': 1.0, 'Contains_Win_Yes': 0.0}\n"
     ]
    }
   ],
   "source": [
    "features_probability_spam = {}\n",
    "features_probability_Notspam = {}\n",
    "\n",
    "for feature in features_name[:-1]:\n",
    "  for attribute in unique_attribute[feature]:\n",
    "    features_probability_spam[f'{feature}_{attribute}'] = probability(feature, attribute, 'Spam')\n",
    "    features_probability_Notspam[f'{feature}_{attribute}'] = probability(feature, attribute, 'Not Spam')\n",
    "\n",
    "\n",
    "print(\"Conditional probabilities given Spam:\", features_probability_spam)\n",
    "print(\"Conditional probabilities given Not Spam:\", features_probability_Notspam)"
   ]
  },
  {
   "cell_type": "markdown",
   "id": "52cc1290",
   "metadata": {},
   "source": [
    "7) Prediction Using Naive Bayes Formula\n",
    "\n",
    "$$\\text{Prediction} = \\arg \\max_{C_k} P(C_k) \\cdot \\prod_{i=1}^{n} P(x_i | C_k)$$"
   ]
  },
  {
   "cell_type": "code",
   "execution_count": 8,
   "id": "ff13af28",
   "metadata": {},
   "outputs": [],
   "source": [
    "def predict(Contains_Free_value, Contains_Offer_value, Contains_Win_value,label):\n",
    "  if(label=='Spam'):\n",
    "    return probability_of_yes*features_probability_spam[f'Contains_Free_{Contains_Free_value}']*features_probability_spam[f' Contains_Offer_{Contains_Offer_value}']*features_probability_spam[f'Contains_Win_{Contains_Win_value}']\n",
    "  else:\n",
    "    return probability_of_no*features_probability_Notspam[f'Contains_Free_{Contains_Free_value}']*features_probability_Notspam[f' Contains_Offer_{Contains_Offer_value}']*features_probability_Notspam[f'Contains_Win_{Contains_Win_value}']"
   ]
  },
  {
   "cell_type": "markdown",
   "id": "823cd03e",
   "metadata": {},
   "source": [
    "8) Test"
   ]
  },
  {
   "cell_type": "code",
   "execution_count": 13,
   "id": "635d970f",
   "metadata": {},
   "outputs": [
    {
     "name": "stdout",
     "output_type": "stream",
     "text": [
      "0.1333333333333333\n",
      "0.1\n",
      "Spam\n"
     ]
    }
   ],
   "source": [
    "p_spam = predict(\"Yes\",\"Yes\",\"No\",\"Spam\")\n",
    "p_notspam = predict(\"Yes\", \"Yes\", \"No\", \"Not Spam\")\n",
    "\n",
    "print(p_spam,p_notspam,sep='\\n')\n",
    "\n",
    "predict_class = 'Spam' if p_spam>p_notspam else 'Not Spam'\n",
    "print(predict_class)\n"
   ]
  }
 ],
 "metadata": {
  "kernelspec": {
   "display_name": "Python 3",
   "language": "python",
   "name": "python3"
  },
  "language_info": {
   "codemirror_mode": {
    "name": "ipython",
    "version": 3
   },
   "file_extension": ".py",
   "mimetype": "text/x-python",
   "name": "python",
   "nbconvert_exporter": "python",
   "pygments_lexer": "ipython3",
   "version": "3.13.4"
  }
 },
 "nbformat": 4,
 "nbformat_minor": 5
}

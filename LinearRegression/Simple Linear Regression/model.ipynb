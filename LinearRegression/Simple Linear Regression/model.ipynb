{
 "cells": [
  {
   "cell_type": "markdown",
   "id": "731736c9",
   "metadata": {},
   "source": [
    "# Scenario Statement: Predicting House Prices Based on House Size\n",
    "\n",
    "A real estate company wants to develop a simple predictive model to estimate the selling price of houses based on their size in square feet. Historical data from 100 houses in a city has been collected. Each record contains:\n",
    "\n",
    "`House_ID: Unique identifier for the house`\n",
    "\n",
    "`House_Size: Total area of the house in square feet`\n",
    "\n",
    "`Price: Selling price of the house (in $1000)`\n",
    "\n",
    "The goal is to use Linear Regression to learn the relationship between house size and selling price, so that the company can:\n",
    "\n",
    "Predict the price of new houses based on size.\n"
   ]
  },
  {
   "cell_type": "markdown",
   "id": "69146c42",
   "metadata": {},
   "source": [
    "`STEP 1 :Read CSV And Convert Columns in List`"
   ]
  },
  {
   "cell_type": "code",
   "execution_count": 39,
   "id": "028c0994",
   "metadata": {},
   "outputs": [
    {
     "name": "stdout",
     "output_type": "stream",
     "text": [
      "   House_ID  House_Size  Price\n",
      "0         1         850  298.7\n",
      "1         2         870  315.6\n",
      "2         3         890  317.8\n",
      "3         4         910  324.9\n",
      "4         5         930  321.4\n",
      "X :  0      850\n",
      "1      870\n",
      "2      890\n",
      "3      910\n",
      "4      930\n",
      "5      950\n",
      "6      970\n",
      "7      990\n",
      "8     1010\n",
      "9     1030\n",
      "10    1050\n",
      "11    1070\n",
      "12    1090\n",
      "13    1110\n",
      "14    1130\n",
      "15    1150\n",
      "16    1170\n",
      "17    1190\n",
      "18    1210\n",
      "19    1230\n",
      "20    1250\n",
      "21    1270\n",
      "22    1290\n",
      "23    1310\n",
      "24    1330\n",
      "25    1350\n",
      "26    1370\n",
      "27    1390\n",
      "28    1410\n",
      "29    1430\n",
      "30    1450\n",
      "31    1470\n",
      "32    1490\n",
      "33    1510\n",
      "34    1530\n",
      "35    1550\n",
      "36    1570\n",
      "37    1590\n",
      "38    1610\n",
      "39    1630\n",
      "40    1650\n",
      "Name: House_Size, dtype: int64\n",
      "Y :  0     298.7\n",
      "1     315.6\n",
      "2     317.8\n",
      "3     324.9\n",
      "4     321.4\n",
      "5     332.2\n",
      "6     329.8\n",
      "7     341.7\n",
      "8     344.1\n",
      "9     353.6\n",
      "10    352.7\n",
      "11    360.1\n",
      "12    358.3\n",
      "13    369.5\n",
      "14    365.2\n",
      "15    375.8\n",
      "16    376.9\n",
      "17    382.1\n",
      "18    386.9\n",
      "19    390.7\n",
      "20    398.8\n",
      "21    400.5\n",
      "22    409.4\n",
      "23    406.2\n",
      "24    417.5\n",
      "25    418.9\n",
      "26    423.2\n",
      "27    431.8\n",
      "28    429.1\n",
      "29    440.5\n",
      "30    438.3\n",
      "31    449.2\n",
      "32    453.9\n",
      "33    452.6\n",
      "34    460.7\n",
      "35    465.3\n",
      "36    470.2\n",
      "37    472.1\n",
      "38    480.6\n",
      "39    483.2\n",
      "40    488.4\n",
      "Name: Price, dtype: float64\n"
     ]
    }
   ],
   "source": [
    "import pandas as pd\n",
    "import numpy as np\n",
    "import matplotlib.pyplot as plt\n",
    "\n",
    "df = pd.read_csv('House_Price_Data.csv')\n",
    "\n",
    "print(df.head())\n",
    "\n",
    "X = df['House_Size']\n",
    "Y = df['Price']\n",
    "\n",
    "print('X : ',X)\n",
    "print('Y : ',Y)"
   ]
  },
  {
   "cell_type": "markdown",
   "id": "e39f7636",
   "metadata": {},
   "source": [
    "`STEP 2 : Implementing Model From Scratch `"
   ]
  },
  {
   "cell_type": "code",
   "execution_count": 44,
   "id": "4ac1955c",
   "metadata": {},
   "outputs": [],
   "source": [
    "class MyLinearRegression:\n",
    "    def __init__(self):\n",
    "        self.X = None\n",
    "        self.Y = None\n",
    "        self.b1 = None\n",
    "        self.b0 = None\n",
    "\n",
    "    def fit(self,X,Y):\n",
    "        self.X = X\n",
    "        self.Y = Y\n",
    "\n",
    "        # x_mean = np.mean(x)\n",
    "        # y_mean = np.mean(y)\n",
    "\n",
    "        x_mean = sum(X)/len(X)\n",
    "        y_mean = sum(Y)/len(Y)\n",
    "\n",
    "        self.b1 = sum((X-x_mean)*(Y-y_mean)) / sum((X-x_mean)**2)\n",
    "\n",
    "        self.b0 = y_mean - (self.b1*x_mean)\n",
    "\n",
    "    def predict(self,x):\n",
    "\n",
    "        y_cap = self.b1*x+self.b0\n",
    "        return y_cap\n",
    "    \n",
    "    def plot_model(self,X,Y):\n",
    "        y_pred = self.b1*X+self.b0\n",
    "        plt.scatter(X,Y)\n",
    "        plt.plot(X,y_pred,'r-')\n",
    "        plt.show()"
   ]
  },
  {
   "cell_type": "code",
   "execution_count": 45,
   "id": "b56ccb6b",
   "metadata": {},
   "outputs": [
    {
     "data": {
      "image/png": "[encoded data removed]",
      "text/plain": [
       "<Figure size 640x480 with 1 Axes>"
      ]
     },
     "metadata": {},
     "output_type": "display_data"
    },
    {
     "data": {
      "text/plain": [
       "487.4073170731707"
      ]
     },
     "execution_count": 45,
     "metadata": {},
     "output_type": "execute_result"
    }
   ],
   "source": [
    "model = MyLinearRegression()\n",
    "model.fit(X,Y)\n",
    "model.plot_model(X,Y)\n",
    "model.predict(1650)"
   ]
  }
 ],
 "metadata": {
  "kernelspec": {
   "display_name": "Python 3",
   "language": "python",
   "name": "python3"
  },
  "language_info": {
   "codemirror_mode": {
    "name": "ipython",
    "version": 3
   },
   "file_extension": ".py",
   "mimetype": "text/x-python",
   "name": "python",
   "nbconvert_exporter": "python",
   "pygments_lexer": "ipython3",
   "version": "3.13.4"
  }
 },
 "nbformat": 4,
 "nbformat_minor": 5
}
